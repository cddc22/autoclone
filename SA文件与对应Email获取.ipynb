{
  "nbformat": 4,
  "nbformat_minor": 0,
  "metadata": {
    "colab": {
      "name": "SA文件与对应Email获取.ipynb",
      "provenance": [],
      "collapsed_sections": [],
      "authorship_tag": "ABX9TyMTBga4a5slnh+moGPCVRph",
      "include_colab_link": true
    },
    "kernelspec": {
      "name": "python3",
      "display_name": "Python 3"
    }
  },
  "cells": [
    {
      "cell_type": "markdown",
      "metadata": {
        "id": "view-in-github",
        "colab_type": "text"
      },
      "source": [
        "<a href=\"https://colab.research.google.com/github/iErics/autoclone/blob/master/SA%E6%96%87%E4%BB%B6%E4%B8%8E%E5%AF%B9%E5%BA%94Email%E8%8E%B7%E5%8F%96.ipynb\" target=\"_parent\"><img src=\"https://colab.research.google.com/assets/colab-badge.svg\" alt=\"Open In Colab\"/></a>"
      ]
    },
    {
      "cell_type": "markdown",
      "metadata": {
        "id": "jCp-hbYQ5JHj",
        "colab_type": "text"
      },
      "source": [
        "\n",
        "## <font color = \"#95C7AE\"> 本Colab脚本用于生成SA文件，并提取SA文件邮箱地址  \n",
        "## <font color = \"#95C7AE\">如不明白怎么操作可以参考的教程：[https://qianjie.space/posts/32e66009.html](https://qianjie.space/posts/32e66009.html)\n",
        "\n",
        "## <font color = \"#95C7AE\">gd-utils搭建教程：  \n",
        "## <font color = \"#95C7AE\">文字版：[https://qianjie.space/posts/bcce7dca.html](https://qianjie.space/posts/bcce7dca.html)   \n",
        "## <font color = \"#95C7AE\">视频版：[https://youtu.be/UH0CW86V2hw](https://youtu.be/UH0CW86V2hw)\n",
        "\n",
        "## <font color = \"#95C7AE\">如有问题请进群反馈[https://t.me/joinchat/H5PXokpGVE7to41XsqFhsA](https://t.me/joinchat/H5PXokpGVE7to41XsqFhsA)"
      ]
    },
    {
      "cell_type": "code",
      "metadata": {
        "id": "0GegM1LDsJLZ",
        "colab_type": "code",
        "cellView": "form",
        "colab": {}
      },
      "source": [
        "#@markdown <h3>← 运行只需点击此处，下同\n",
        "#@markdown <br><left><img src='https://upload.wikimedia.org/wikipedia/commons/thumb/d/da/Google_Drive_logo.png/600px-Google_Drive_logo.png' height=\"50\" alt=\"Gdrive-logo\"/></left>\n",
        "#@markdown <h2>挂载谷歌云盘，并安装AutoRlone\n",
        "#@markdown <h2>此处挂载的云盘只是用来存放后面生成的文件的和sa无关\n",
        "from google.colab import drive\n",
        "from IPython.display import clear_output\n",
        "\n",
        "drive.mount('/content/drive')\n",
        "\n",
        "clear_output()\n",
        "print(\"开始安装AutoClone\")\n",
        "!git clone https://github.com/xyou365/AutoRclone\n",
        "%cd AutoRclone\n",
        "!pip3 install -r requirements.txt\n",
        "\n",
        "clear_output()\n",
        "print(\"安装完成\")\n"
      ],
      "execution_count": null,
      "outputs": []
    },
    {
      "cell_type": "markdown",
      "metadata": {
        "id": "0g_di-cBR5qP",
        "colab_type": "text"
      },
      "source": [
        "### 点击链接下载credentials.json文件，  \n",
        "\n",
        "链接：[https://developers.google.com/drive/api/v3/quickstart/python](https://developers.google.com/drive/api/v3/quickstart/python)  \n",
        "### 下载完成后点击左侧边栏文件夹图标，将下载到本地的credentials.json文件上传到AutoClone文件夹下。\n",
        "### <font color=#95C7AE> 如果保存的有请直接上传  \n",
        "\n"
      ]
    },
    {
      "cell_type": "code",
      "metadata": {
        "id": "Y3sdLgUzilrV",
        "colab_type": "code",
        "cellView": "form",
        "colab": {}
      },
      "source": [
        "#@markdown <h4>之前没有创建过项目运行这个，在下方填入你需要创建的项目数量，<font color=#95C7AE>每个项目对应100个SA账号</font>\n",
        "\n",
        "N = \"\" #@param {type: \"string\"}\n",
        "\n",
        "\n",
        "!python3 gen_sa_accounts.py --quick-setup \"$N\" --max-projects 999"
      ],
      "execution_count": null,
      "outputs": []
    },
    {
      "cell_type": "code",
      "metadata": {
        "id": "cm4h1UIxi1Dt",
        "colab_type": "code",
        "cellView": "form",
        "colab": {}
      },
      "source": [
        "#@markdown <h4>已有项目，需要创建新的<font color=#95C7AE> 想要下载所有的SA文件并且提取邮箱的</font>运行这个  \n",
        "#@markdown <h4>在下方填入你需要新建的项目数量，<font color=\"#95C7AE\">每个项目对应100个SA账号</font>\n",
        "N = \"\" #@param {type: \"string\"}\n",
        "\n",
        "!python3 gen_sa_accounts.py --quick-setup \"$N\" --max-projects 999"
      ],
      "execution_count": null,
      "outputs": []
    },
    {
      "cell_type": "code",
      "metadata": {
        "id": "lNKjsi2I8-0z",
        "colab_type": "code",
        "cellView": "form",
        "colab": {}
      },
      "source": [
        "#@markdown <h4>已有项目，需要创建新的<font color=#95C7AE>但只想下载新建项目的SA文件并且提取邮箱的</font>运行这个   \n",
        "#@markdown <h4>在下方填入你需要新建的项目数量，<font color=\"#95C7AE\">每个项目对应100个SA账号</font>\n",
        "\n",
        "N = \"\" #@param {type: \"string\"}\n",
        "\n",
        "!python3 gen_sa_accounts.py --quick-setup \"$N\" --new-only --max-projects 999"
      ],
      "execution_count": null,
      "outputs": []
    },
    {
      "cell_type": "code",
      "metadata": {
        "id": "f7lFlW2TtHTN",
        "colab_type": "code",
        "cellView": "form",
        "colab": {}
      },
      "source": [
        "#@markdown <h4> 已有项目，不需要创建新的新的项目的运行这个\n",
        "\n",
        "\n",
        "!python3 gen_sa_accounts.py --quick-setup -1 --max-projects 999"
      ],
      "execution_count": null,
      "outputs": []
    },
    {
      "cell_type": "markdown",
      "metadata": {
        "id": "-9HwPFaF345P",
        "colab_type": "text"
      },
      "source": [
        "###下载完成后点击左侧文件夹图标，看看/AutoRclone/accounts路径下有没有SA文件   \n",
        "###如果有执行下面的命令，如果没有则说明下载失败了。"
      ]
    },
    {
      "cell_type": "code",
      "metadata": {
        "id": "45O1uAPkuXpx",
        "colab_type": "code",
        "cellView": "form",
        "colab": {}
      },
      "source": [
        "#@markdown <h4>若AutoRclone/accounts路径下有SA文件请执行此步骤\n",
        "\n",
        "!cat /content/AutoRclone/accounts/*.json | grep \"client_email\" | awk '{print $2}'| tr -d ',\"' | sed 'N;N;N;N;N;N;N;N;N;N;N;N;N;N;N;N;N;N;N;N;N;N;N;N;N;N;N;N;N;N;N;N;N;N;N;N;N;N;N;N;N;N;N;N;N;N;N;N;N;N;N;N;N;N;N;N;N;N;N;N;N;N;N;N;N;N;N;N;N;N;N;N;N;N;N;N;N;N;N;N;N;N;N;N;N;N;N;N;N;N;N;N;N;N;N;N;N;N;N;/^$/d;G' > /content/email.txt\n",
        "%cp /content/email.txt /content/drive/\"My Drive\"\n",
        "!mkdir /content/AutoRclone/sa\n",
        "%cp /content/AutoRclone/accounts/*.json /content/AutoRclone/sa\n",
        "\n",
        "MODE = \"ZIP\"\n",
        "FILENAME = \"sa.zip\" \n",
        "PATH_TO_FILE = \"/content/AutoRclone/sa\"\n",
        "ARCHIVE_PASSWORD = \"\"\n",
        "compress = 1\n",
        "from pathlib import PurePosixPath\n",
        "from IPython.display import clear_output\n",
        "\n",
        "pathList = PATH_TO_FILE.split('|')\n",
        "if MODE == \"ZIP\":\n",
        "    if not FILENAME:\n",
        "      FILENAME = \"/content/NEW_FILE.ZIP\"\n",
        "    if ARCHIVE_PASSWORD:\n",
        "      passADD = f'--password \"{ARCHIVE_PASSWORD}\"'\n",
        "    else:\n",
        "      passADD = ''\n",
        "    for part in pathList:\n",
        "      pathdic = PurePosixPath(part.strip())\n",
        "      parent = pathdic.parent\n",
        "      partName = pathdic.parts[-1]\n",
        "      cmd = f'cd \"{parent}\" && zip {passADD} -{compress} -v -r -u \"{FILENAME}\" \"{partName}\"'\n",
        "      !$cmd\n",
        "\n",
        "%cp /content/AutoRclone/sa.zip /content/drive/\"My Drive\"\n",
        "clear_output()\n",
        "print(\"大功告成，现在去你的网盘根目录看看有没有email.txt和sa.zip文件吧\")"
      ],
      "execution_count": null,
      "outputs": []
    },
    {
      "cell_type": "markdown",
      "metadata": {
        "id": "_S2JiUalRQIR",
        "colab_type": "text"
      },
      "source": [
        "## 执行完毕后，你的云盘里将会保存一份SA的压缩文件sa.zip和一份邮箱地址文本email.txt。如果你使用的是我的Colad_gd-utils脚本，则可省去第一次使用时的上传和压缩步骤，直接运行"
      ]
    }
  ]
}